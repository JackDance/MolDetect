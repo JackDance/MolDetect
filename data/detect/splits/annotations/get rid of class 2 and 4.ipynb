{
 "cells": [
  {
   "cell_type": "code",
   "execution_count": 10,
   "id": "84b7befc-5ab5-49a8-a0a9-2543105ccfcc",
   "metadata": {
    "tags": []
   },
   "outputs": [],
   "source": [
    "import json\n",
    "\n",
    "with open('detect_combined.json', 'r') as f:\n",
    "    data = json.load(f)\n",
    "\n",
    "# Remove items 1 and 3 from the 'categories' array\n",
    "newcat =  [{'id': 1, 'name': 'structure', 'supercategory': ''}, {'id': 3, 'name': 'identifier', 'supercategory': \"\"}]\n",
    "\n",
    "data['categories'] = newcat\n",
    "\n",
    "for image in data['images']:\n",
    "    newbbox = []\n",
    "    for bbox in image['bboxes']:\n",
    "        if bbox['category_id'] ==1 or bbox['category_id'] ==3:\n",
    "            newbbox.append(bbox)\n",
    "    image['bboxes'] = newbbox\n",
    "    \n",
    "newannotations = []\n",
    "\n",
    "for annotation in data['annotations']:\n",
    "    if annotation['category_id'] ==1 or annotation['category_id'] ==3:\n",
    "        newannotations.append(annotation)\n",
    "\n",
    "data['annotations'] = newannotations\n",
    "\n",
    "\n",
    "\n",
    "\n",
    "# Write the updated JSON to a new file\n",
    "with open('output.json', 'w') as f:\n",
    "    json.dump(data, f)"
   ]
  },
  {
   "cell_type": "code",
   "execution_count": null,
   "id": "8053f68d-3d1b-4b1f-98bb-f934c0333610",
   "metadata": {},
   "outputs": [],
   "source": []
  }
 ],
 "metadata": {
  "kernelspec": {
   "display_name": "Python 3 (ipykernel)",
   "language": "python",
   "name": "python3"
  },
  "language_info": {
   "codemirror_mode": {
    "name": "ipython",
    "version": 3
   },
   "file_extension": ".py",
   "mimetype": "text/x-python",
   "name": "python",
   "nbconvert_exporter": "python",
   "pygments_lexer": "ipython3",
   "version": "3.10.9"
  }
 },
 "nbformat": 4,
 "nbformat_minor": 5
}
