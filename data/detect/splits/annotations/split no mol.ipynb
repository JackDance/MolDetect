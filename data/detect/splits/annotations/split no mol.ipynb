{
 "cells": [
  {
   "cell_type": "code",
   "execution_count": 25,
   "id": "7291b60f-cf0d-4de9-a579-738f26c4be50",
   "metadata": {
    "tags": []
   },
   "outputs": [],
   "source": [
    "import random\n",
    "import json\n",
    "\n",
    "data_path = \"./detect_two_cat_no_mol2.json\"\n",
    "\n",
    "with open(data_path) as f:\n",
    "    all_images = json.load(f)\n",
    "\n",
    "filenames = []\n",
    "for image in all_images['images']:\n",
    "    filenames.append(image['file_name'])\n"
   ]
  },
  {
   "cell_type": "code",
   "execution_count": 26,
   "id": "e755c3fe-768e-4ce7-b4c8-033ca43f4ce5",
   "metadata": {
    "tags": []
   },
   "outputs": [],
   "source": [
    "good_list = filenames"
   ]
  },
  {
   "cell_type": "code",
   "execution_count": 27,
   "id": "d2e1223f-9e82-49cc-bccb-729a606419a2",
   "metadata": {
    "tags": []
   },
   "outputs": [],
   "source": [
    "random.shuffle(good_list)"
   ]
  },
  {
   "cell_type": "code",
   "execution_count": 28,
   "id": "f84d0560-78a6-48a8-90b3-711f2e6ab581",
   "metadata": {
    "tags": []
   },
   "outputs": [
    {
     "name": "stdout",
     "output_type": "stream",
     "text": [
      "1622\n"
     ]
    }
   ],
   "source": [
    "test = good_list[0:202]\n",
    "val = good_list[202: 404]\n",
    "train = good_list[404:]\n",
    "print(len(train))"
   ]
  },
  {
   "cell_type": "code",
   "execution_count": 29,
   "id": "3489dfff-ca1d-4a74-b78a-7d820eb22ea3",
   "metadata": {
    "tags": []
   },
   "outputs": [],
   "source": [
    "data = all_images"
   ]
  },
  {
   "cell_type": "code",
   "execution_count": 30,
   "id": "2213e4f2-fbb8-40dc-9bd8-8c74819631c1",
   "metadata": {
    "tags": []
   },
   "outputs": [
    {
     "name": "stdout",
     "output_type": "stream",
     "text": [
      "{'categories': [{'id': 1, 'name': 'structure', 'supercategory': ''}, {'id': 3, 'name': 'identifier', 'supercategory': ''}], 'licenses': [{'name': '', 'id': 0, 'url': ''}, {'name': '', 'id': 0, 'url': ''}, {'name': '', 'id': 0, 'url': ''}], 'info': {'contributor': 'Jiang Guo', 'date_created': 'Dec. 22', 'description': '', 'url': '', 'version': 'v1', 'year': '2021'}, 'images': [], 'annotations': []}\n"
     ]
    }
   ],
   "source": [
    "test_json = {}\n",
    "val_json = {}\n",
    "train_json = {}\n",
    "\n",
    "for k in ['categories', 'licenses', 'info']:\n",
    "    test_json[k] = data[k]\n",
    "    val_json[k] = data[k]\n",
    "    train_json[k] = data[k]\n",
    "\n",
    "test_json['images'] = []\n",
    "val_json['images'] = []\n",
    "train_json['images'] = []\n",
    "test_json['annotations'] = []\n",
    "val_json['annotations'] = []\n",
    "train_json['annotations'] = []\n",
    "\n",
    "test_ids = set()\n",
    "val_ids = set()\n",
    "train_ids = set()\n",
    "\n",
    "print(test_json)"
   ]
  },
  {
   "cell_type": "code",
   "execution_count": 31,
   "id": "e6d5f286-37c3-4efe-8163-ec64c79ec522",
   "metadata": {
    "tags": []
   },
   "outputs": [],
   "source": [
    "for image in data['images']:\n",
    "    if image['file_name'] in test:\n",
    "        test_json['images'].append(image)\n",
    "        test_ids.add(image['id'])\n",
    "    elif image['file_name'] in val:\n",
    "        val_json['images'].append(image)\n",
    "        val_ids.add(image['id'])\n",
    "    elif image['file_name'] in train:\n",
    "        train_json['images'].append(image)\n",
    "        train_ids.add(image['id'])\n",
    "        "
   ]
  },
  {
   "cell_type": "code",
   "execution_count": 32,
   "id": "dabe36a7-9106-4977-8830-a215d363262b",
   "metadata": {
    "tags": []
   },
   "outputs": [],
   "source": [
    "for annotation in data['annotations']:\n",
    "    if annotation['image_id'] in test_ids:\n",
    "        test_json['annotations'].append(annotation)\n",
    "    elif annotation['image_id'] in val_ids:\n",
    "        val_json['annotations'].append(annotation)\n",
    "    elif annotation['image_id'] in train_ids:\n",
    "        train_json['annotations'].append(annotation)"
   ]
  },
  {
   "cell_type": "code",
   "execution_count": 33,
   "id": "705db1dc-914b-49e0-bfc3-79267709cc04",
   "metadata": {
    "tags": []
   },
   "outputs": [
    {
     "name": "stdout",
     "output_type": "stream",
     "text": [
      "2026\n",
      "2026\n"
     ]
    }
   ],
   "source": [
    "ids = set()\n",
    "idlist = []\n",
    "for im in data['images']:\n",
    "    ids.add(im['id'])\n",
    "    idlist.append(im['id'])\n",
    "print(len(ids))\n",
    "print(len(idlist))"
   ]
  },
  {
   "cell_type": "code",
   "execution_count": 34,
   "id": "184105bc-b263-4812-9819-f6d180971b3c",
   "metadata": {},
   "outputs": [
    {
     "name": "stdout",
     "output_type": "stream",
     "text": [
      "2243\n"
     ]
    }
   ],
   "source": [
    "print(max(ids))"
   ]
  },
  {
   "cell_type": "code",
   "execution_count": 35,
   "id": "ad8bb387-984d-4b3c-93a9-909ec6182d89",
   "metadata": {
    "tags": []
   },
   "outputs": [],
   "source": [
    "json_object = json.dumps(test_json)\n",
    " \n",
    "# Writing to sample.json\n",
    "with open(\"detect_test_twocat_no_mol.json\", \"w\") as outfile:\n",
    "    outfile.write(json_object)"
   ]
  },
  {
   "cell_type": "code",
   "execution_count": 36,
   "id": "a9463097-1ff2-4eda-8f55-d29c1db70339",
   "metadata": {
    "tags": []
   },
   "outputs": [],
   "source": [
    "json_object = json.dumps(val_json)\n",
    " \n",
    "# Writing to sample.json\n",
    "with open(\"detect_val_twocat_no_mol.json\", \"w\") as outfile:\n",
    "    outfile.write(json_object)"
   ]
  },
  {
   "cell_type": "code",
   "execution_count": 37,
   "id": "176a9f0b-673d-4e00-8e1a-b5d8de7af270",
   "metadata": {
    "tags": []
   },
   "outputs": [],
   "source": [
    "json_object = json.dumps(train_json)\n",
    " \n",
    "# Writing to sample.json\n",
    "with open(\"detect_train_twocat_no_mol.json\", \"w\") as outfile:\n",
    "    outfile.write(json_object)"
   ]
  },
  {
   "cell_type": "code",
   "execution_count": null,
   "id": "0200b44f-7ce0-46d2-bb3d-41e2f3d45955",
   "metadata": {},
   "outputs": [],
   "source": []
  }
 ],
 "metadata": {
  "kernelspec": {
   "display_name": "Python 3 (ipykernel)",
   "language": "python",
   "name": "python3"
  },
  "language_info": {
   "codemirror_mode": {
    "name": "ipython",
    "version": 3
   },
   "file_extension": ".py",
   "mimetype": "text/x-python",
   "name": "python",
   "nbconvert_exporter": "python",
   "pygments_lexer": "ipython3",
   "version": "3.10.9"
  }
 },
 "nbformat": 4,
 "nbformat_minor": 5
}
