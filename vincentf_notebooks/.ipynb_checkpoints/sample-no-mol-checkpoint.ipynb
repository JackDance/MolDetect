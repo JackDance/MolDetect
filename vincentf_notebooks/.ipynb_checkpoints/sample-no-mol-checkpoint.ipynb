{
 "cells": [
  {
   "cell_type": "code",
   "execution_count": 1,
   "id": "8b105ee9-21cf-4ea8-91a6-9c6086dd8d5d",
   "metadata": {
    "tags": []
   },
   "outputs": [],
   "source": [
    "%load_ext autoreload\n",
    "%autoreload 2\n",
    "import sys\n",
    "sys.path.append('../')"
   ]
  },
  {
   "cell_type": "code",
   "execution_count": 2,
   "id": "80c2eb6b-65ea-48c2-a8d0-000a5af90e97",
   "metadata": {
    "tags": []
   },
   "outputs": [
    {
     "name": "stderr",
     "output_type": "stream",
     "text": [
      "/Mounts/rbg-storage1/users/urop/vincentf/miniconda3/lib/python3.10/site-packages/tqdm/auto.py:22: TqdmWarning: IProgress not found. Please update jupyter and ipywidgets. See https://ipywidgets.readthedocs.io/en/stable/user_install.html\n",
      "  from .autonotebook import tqdm as notebook_tqdm\n"
     ]
    }
   ],
   "source": [
    "import os\n",
    "import json\n",
    "import cv2\n",
    "import torch\n",
    "import numpy as np\n",
    "import matplotlib.pyplot as plt\n",
    "import pandas as pd\n",
    "from IPython.display import HTML, display"
   ]
  },
  {
   "cell_type": "code",
   "execution_count": 3,
   "id": "c8e96502-ff83-4668-8747-2f2e383c7478",
   "metadata": {},
   "outputs": [],
   "source": [
    "with open('combined_data.json', 'r') as f:\n",
    "    # Load the JSON data from the file into a dictionary\n",
    "    pdffigures = json.load(f)\n",
    "\n"
   ]
  },
  {
   "cell_type": "code",
   "execution_count": 15,
   "id": "43bf74f2-f7c0-49e6-b874-c71709d85996",
   "metadata": {
    "tags": []
   },
   "outputs": [
    {
     "name": "stderr",
     "output_type": "stream",
     "text": [
      "IOPub data rate exceeded.\n",
      "The Jupyter server will temporarily stop sending output\n",
      "to the client in order to avoid crashing it.\n",
      "To change this limit, set the config variable\n",
      "`--ServerApp.iopub_data_rate_limit`.\n",
      "\n",
      "Current values:\n",
      "ServerApp.iopub_data_rate_limit=1000000.0 (bytes/sec)\n",
      "ServerApp.rate_limit_window=3.0 (secs)\n",
      "\n"
     ]
    }
   ],
   "source": [
    "counter = 0\n",
    "new_images = []\n",
    "\n",
    "for sample in pdffigures:\n",
    "    for t in pdffigures[sample]:\n",
    "        print(t)\n",
    "        new_images.append({'id': counter + 1705, 'width':  t['Width'], 'height':  t['Height'], 'file_name': sample+'-'+t['Type']+'-c'+str(t['Number'])+'.png', 'license': 0, 'flickr_url': '', 'coco_url': '', 'data_captured': 0, 'bboxes': [], 'caption': ''})\n",
    "        counter+=1\n",
    "        if counter == 200:\n",
    "            break\n"
   ]
  },
  {
   "cell_type": "code",
   "execution_count": 16,
   "id": "b5766f9a-6067-412e-beae-0e59f9c8ca59",
   "metadata": {
    "tags": []
   },
   "outputs": [
    {
     "name": "stdout",
     "output_type": "stream",
     "text": [
      "[{'id': 1705, 'width': 850, 'height': 1100, 'file_name': 'op060114g-Figure-c1.png', 'license': 0, 'flickr_url': '', 'coco_url': '', 'data_captured': 0, 'bboxes': [], 'caption': ''}, {'id': 1706, 'width': 850, 'height': 1100, 'file_name': 'op060114g-Table-c1.png', 'license': 0, 'flickr_url': '', 'coco_url': '', 'data_captured': 0, 'bboxes': [], 'caption': ''}, {'id': 1707, 'width': 850, 'height': 1100, 'file_name': 'op060114g-Figure-c2.png', 'license': 0, 'flickr_url': '', 'coco_url': '', 'data_captured': 0, 'bboxes': [], 'caption': ''}, {'id': 1708, 'width': 850, 'height': 1100, 'file_name': 'op060114g-Table-c2.png', 'license': 0, 'flickr_url': '', 'coco_url': '', 'data_captured': 0, 'bboxes': [], 'caption': ''}, {'id': 1709, 'width': 869, 'height': 1137, 'file_name': 'jo501736w-Figure-c2.png', 'license': 0, 'flickr_url': '', 'coco_url': '', 'data_captured': 0, 'bboxes': [], 'caption': ''}, {'id': 1710, 'width': 869, 'height': 1137, 'file_name': 'jo501736w-Table-c1.png', 'license': 0, 'flickr_url': '', 'coco_url': '', 'data_captured': 0, 'bboxes': [], 'caption': ''}, {'id': 1711, 'width': 869, 'height': 1137, 'file_name': 'jo501736w-Table-c3.png', 'license': 0, 'flickr_url': '', 'coco_url': '', 'data_captured': 0, 'bboxes': [], 'caption': ''}, {'id': 1712, 'width': 869, 'height': 1137, 'file_name': 'jo501736w-Figure-c3.png', 'license': 0, 'flickr_url': '', 'coco_url': '', 'data_captured': 0, 'bboxes': [], 'caption': ''}, {'id': 1713, 'width': 869, 'height': 1137, 'file_name': 'jo501736w-Table-c2.png', 'license': 0, 'flickr_url': '', 'coco_url': '', 'data_captured': 0, 'bboxes': [], 'caption': ''}, {'id': 1714, 'width': 869, 'height': 1137, 'file_name': 'jo501736w-Table-c4.png', 'license': 0, 'flickr_url': '', 'coco_url': '', 'data_captured': 0, 'bboxes': [], 'caption': ''}]\n"
     ]
    }
   ],
   "source": [
    "print(new_images[0:10])"
   ]
  },
  {
   "cell_type": "code",
   "execution_count": 18,
   "id": "420f0e5c-759d-4b23-b85c-29b6d822aec1",
   "metadata": {
    "tags": []
   },
   "outputs": [],
   "source": [
    "with open('../data_new/detect/splits/annotations/FIXED_test.json', 'r') as f:\n",
    "    # Load the JSON data from the file into a dictionary\n",
    "    copyof = json.load(f)"
   ]
  },
  {
   "cell_type": "code",
   "execution_count": 19,
   "id": "fb05c75c-3ea4-403b-8eaa-126d9d91df4d",
   "metadata": {
    "tags": []
   },
   "outputs": [
    {
     "name": "stdout",
     "output_type": "stream",
     "text": [
      "dict_keys(['categories', 'licenses', 'info', 'images', 'annotations'])\n"
     ]
    }
   ],
   "source": [
    "print(copyof.keys())"
   ]
  },
  {
   "cell_type": "code",
   "execution_count": 20,
   "id": "c797a541-7735-4818-b62d-027dd229e2b4",
   "metadata": {
    "tags": []
   },
   "outputs": [],
   "source": [
    "copyof['images'] = new_images\n",
    "copyof['annotations'] = []\n",
    "\n"
   ]
  },
  {
   "cell_type": "code",
   "execution_count": 21,
   "id": "54b20d0f-fa68-4a56-9d68-dd3bbfd6d4c3",
   "metadata": {
    "tags": []
   },
   "outputs": [],
   "source": [
    "\n",
    "with open('newtest.json', 'w') as f:\n",
    "    # Write the data to the file as JSON\n",
    "    json.dump(copyof, f)"
   ]
  },
  {
   "cell_type": "code",
   "execution_count": null,
   "id": "ab5adb6e-7bd7-47cd-9dea-b7900356fc4b",
   "metadata": {},
   "outputs": [],
   "source": []
  }
 ],
 "metadata": {
  "kernelspec": {
   "display_name": "Python 3 (ipykernel)",
   "language": "python",
   "name": "python3"
  },
  "language_info": {
   "codemirror_mode": {
    "name": "ipython",
    "version": 3
   },
   "file_extension": ".py",
   "mimetype": "text/x-python",
   "name": "python",
   "nbconvert_exporter": "python",
   "pygments_lexer": "ipython3",
   "version": "3.10.9"
  }
 },
 "nbformat": 4,
 "nbformat_minor": 5
}
