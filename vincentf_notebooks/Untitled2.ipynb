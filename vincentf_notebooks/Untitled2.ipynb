{
 "cells": [
  {
   "cell_type": "code",
   "execution_count": 20,
   "id": "1817d409",
   "metadata": {},
   "outputs": [],
   "source": [
    "import json\n",
    "data_path = '/Mounts/rbg-storage1/users/yujieq/reaction//data/detect/annotations_merged_feb.json'\n",
    "with open(data_path) as f:\n",
    "    data = json.load(f)"
   ]
  },
  {
   "cell_type": "code",
   "execution_count": 25,
   "id": "5943e3f8",
   "metadata": {},
   "outputs": [
    {
     "name": "stdout",
     "output_type": "stream",
     "text": [
      "{'id': 0, 'image_id': 0, 'category_id': 1, 'segmentation': [], 'area': 35957.43259999999, 'bbox': [62.6, 118.47, 347.18, 103.57], 'iscrowd': 0, 'attributes': {'occluded': False, 'rotation': 0.0}}\n",
      "        \n",
      "{'id': 0, 'width': 1348, 'height': 340, 'file_name': 'jacs.6b01306-Table-c1.png', 'license': 0, 'flickr_url': '', 'coco_url': '', 'date_captured': 0, 'bboxes': [{'bbox': [62.6, 118.47, 347.18, 103.57], 'category_id': 1, 'id': 0}, {'bbox': [420.69, 152.04, 502.12, 83.77], 'category_id': 2, 'id': 1}, {'bbox': [6.11, 263.0, 1335.8, 76.25], 'category_id': 4, 'id': 2}, {'bbox': [936.3, 118.47, 348.04, 102.71], 'category_id': 1, 'id': 3}, {'bbox': [474.06, 3.12, 412.6, 135.38], 'category_id': 2, 'id': 4}], 'caption': 'Table 1. Asymmetric Hydrogenation of Dimethyl Itaconate with Mixtures of BTA Ligand, [Rh(cod)2]BArF, and Ester BTA: Screening of Various Comonomersa ', 'pdf': {'Page': 3, 'DPI': 100, 'Width': 869, 'Height': 1137, 'CaptionBB': [82, 373, 415, 418], 'ImageBB': [82, 425, 419, 510]}}\n",
      "       \n",
      "[{'bbox': [62.6, 118.47, 347.18, 103.57], 'category_id': 1, 'id': 0}, {'bbox': [420.69, 152.04, 502.12, 83.77], 'category_id': 2, 'id': 1}, {'bbox': [6.11, 263.0, 1335.8, 76.25], 'category_id': 4, 'id': 2}, {'bbox': [936.3, 118.47, 348.04, 102.71], 'category_id': 1, 'id': 3}, {'bbox': [474.06, 3.12, 412.6, 135.38], 'category_id': 2, 'id': 4}]\n"
     ]
    }
   ],
   "source": [
    "print(data['annotations'][0])\n",
    "print('        ')\n",
    "print(data['images'][0])\n",
    "print('       ')\n",
    "print(data['images'][0]['bboxes'])"
   ]
  },
  {
   "cell_type": "code",
   "execution_count": 54,
   "id": "839f41c7",
   "metadata": {},
   "outputs": [
    {
     "name": "stdout",
     "output_type": "stream",
     "text": [
      "14505\n",
      "14508\n"
     ]
    }
   ],
   "source": [
    "existing_annotation_ids = set()\n",
    "for annotation in data['annotations']:\n",
    "    existing_annotation_ids.add(annotation['id'])\n",
    "\n",
    "print(len(existing_annotation_ids))\n",
    "print(max(existing_annotation_ids))"
   ]
  },
  {
   "cell_type": "code",
   "execution_count": 57,
   "id": "9580f724",
   "metadata": {},
   "outputs": [],
   "source": [
    "counter = 0\n",
    "new_image = []\n",
    "new_annotation = []\n",
    "for image in data['images']:\n",
    "    bbox_holder = []\n",
    "    for bbox in image['bboxes']:\n",
    "        new_annotation.append({'id': counter, 'image_id': image['id'], 'category_id': bbox['category_id'],'segmentation': [], 'area': bbox['bbox'][2]*bbox['bbox'][3], 'bbox': bbox['bbox'], 'iscrowd': 0, 'attributes': {'occluded': False, 'rotation': 0.0} })\n",
    "        bbox_holder.append({'bbox': bbox['bbox'], 'category_id': bbox['category_id'], 'id': counter})\n",
    "        counter+=1\n",
    "    new_image_toadd = {}\n",
    "    for key in image.keys():\n",
    "        if key != 'bboxes':\n",
    "            new_image_toadd[key] = image[key]\n",
    "        else:\n",
    "            new_image_toadd[key] = bbox_holder\n",
    "    new_image.append(new_image_toadd)\n",
    "        "
   ]
  },
  {
   "cell_type": "code",
   "execution_count": 58,
   "id": "7429e606",
   "metadata": {},
   "outputs": [
    {
     "name": "stdout",
     "output_type": "stream",
     "text": [
      "1923\n"
     ]
    }
   ],
   "source": [
    "print(len(new_image))"
   ]
  },
  {
   "cell_type": "code",
   "execution_count": 59,
   "id": "3cb6c483",
   "metadata": {},
   "outputs": [
    {
     "name": "stdout",
     "output_type": "stream",
     "text": [
      "23056\n"
     ]
    }
   ],
   "source": [
    "print(len(new_annotation))"
   ]
  },
  {
   "cell_type": "code",
   "execution_count": 61,
   "id": "2e083fab",
   "metadata": {},
   "outputs": [
    {
     "name": "stdout",
     "output_type": "stream",
     "text": [
      "[{'id': 0, 'image_id': 0, 'category_id': 1, 'segmentation': [], 'area': 35957.4326, 'bbox': [62.6, 118.47, 347.18, 103.57], 'iscrowd': 0, 'attributes': {'occluded': False, 'rotation': 0.0}}, {'id': 1, 'image_id': 0, 'category_id': 2, 'segmentation': [], 'area': 42062.5924, 'bbox': [420.69, 152.04, 502.12, 83.77], 'iscrowd': 0, 'attributes': {'occluded': False, 'rotation': 0.0}}, {'id': 2, 'image_id': 0, 'category_id': 4, 'segmentation': [], 'area': 101854.75, 'bbox': [6.11, 263.0, 1335.8, 76.25], 'iscrowd': 0, 'attributes': {'occluded': False, 'rotation': 0.0}}, {'id': 3, 'image_id': 0, 'category_id': 1, 'segmentation': [], 'area': 35747.1884, 'bbox': [936.3, 118.47, 348.04, 102.71], 'iscrowd': 0, 'attributes': {'occluded': False, 'rotation': 0.0}}, {'id': 4, 'image_id': 0, 'category_id': 2, 'segmentation': [], 'area': 55857.788, 'bbox': [474.06, 3.12, 412.6, 135.38], 'iscrowd': 0, 'attributes': {'occluded': False, 'rotation': 0.0}}, {'id': 5, 'image_id': 1, 'category_id': 1, 'segmentation': [], 'area': 16484.7716, 'bbox': [2390.35, 60.38, 146.74, 112.34], 'iscrowd': 0, 'attributes': {'occluded': False, 'rotation': 0.0}}, {'id': 6, 'image_id': 1, 'category_id': 3, 'segmentation': [], 'area': 1797.432, 'bbox': [1262.95, 198.63, 49.38, 36.4], 'iscrowd': 0, 'attributes': {'occluded': False, 'rotation': 0.0}}, {'id': 7, 'image_id': 1, 'category_id': 3, 'segmentation': [], 'area': 2796.6510000000003, 'bbox': [878.06, 201.87, 81.18, 34.45], 'iscrowd': 0, 'attributes': {'occluded': False, 'rotation': 0.0}}, {'id': 8, 'image_id': 1, 'category_id': 3, 'segmentation': [], 'area': 1004.211, 'bbox': [2443.58, 201.87, 28.61, 35.1], 'iscrowd': 0, 'attributes': {'occluded': False, 'rotation': 0.0}}, {'id': 9, 'image_id': 1, 'category_id': 4, 'segmentation': [], 'area': 3484022.598, 'bbox': [289.0, 259.21, 2816.1, 1237.18], 'iscrowd': 0, 'attributes': {'occluded': False, 'rotation': 0.0}}]\n"
     ]
    }
   ],
   "source": []
  },
  {
   "cell_type": "code",
   "execution_count": 63,
   "id": "236cbeec",
   "metadata": {},
   "outputs": [],
   "source": [
    "feb_merged_clean = {}\n",
    "for key in data.keys():\n",
    "    if key == 'annotations':\n",
    "        feb_merged_clean[key] = new_annotation\n",
    "    elif key == 'images':\n",
    "        feb_merged_clean[key] = new_image\n",
    "    else:\n",
    "        feb_merged_clean[key] = data[key]"
   ]
  },
  {
   "cell_type": "code",
   "execution_count": 64,
   "id": "4d2cff5e",
   "metadata": {},
   "outputs": [],
   "source": [
    "json_object = json.dumps(feb_merged_clean)\n",
    " \n",
    "# Writing to sample.json\n",
    "with open(\"annotations_feb_merged_all_bbox.json\", \"w\") as outfile:\n",
    "    outfile.write(json_object)"
   ]
  },
  {
   "cell_type": "code",
   "execution_count": null,
   "id": "ced8c17b",
   "metadata": {},
   "outputs": [],
   "source": []
  }
 ],
 "metadata": {
  "kernelspec": {
   "display_name": "Python 3 (ipykernel)",
   "language": "python",
   "name": "python3"
  },
  "language_info": {
   "codemirror_mode": {
    "name": "ipython",
    "version": 3
   },
   "file_extension": ".py",
   "mimetype": "text/x-python",
   "name": "python",
   "nbconvert_exporter": "python",
   "pygments_lexer": "ipython3",
   "version": "3.10.9"
  }
 },
 "nbformat": 4,
 "nbformat_minor": 5
}
