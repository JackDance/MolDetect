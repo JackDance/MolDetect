{
 "cells": [
  {
   "cell_type": "code",
   "execution_count": 1,
   "id": "2a422395-ac3c-45d0-a3fc-e48b45695908",
   "metadata": {
    "tags": []
   },
   "outputs": [],
   "source": [
    "import json\n",
    "import os\n",
    "\n",
    "# The path to the folder containing the JSON files\n",
    "folder_path = \"../data_new/detect/pdffigures\"\n",
    "\n",
    "# Initialize an empty dictionary to hold the combined JSON data\n",
    "combined_data = {}\n",
    "\n",
    "# Loop through each file in the folder\n",
    "for filename in os.listdir(folder_path):\n",
    "    if filename.endswith(\".json\"):  # Only consider JSON files\n",
    "        # Extract the outer name of the JSON data from the filename\n",
    "        outer_name = os.path.splitext(filename)[0]\n",
    "        \n",
    "        # Load the JSON data from the file\n",
    "        with open(os.path.join(folder_path, filename), \"r\") as f:\n",
    "            json_data = json.load(f)\n",
    "        \n",
    "        # Add the JSON data to the combined dictionary\n",
    "        combined_data[outer_name] = json_data\n",
    "\n",
    "# Write the combined data to a new JSON file\n",
    "with open(\"combined_data.json\", \"w\") as f:\n",
    "    json.dump(combined_data, f, indent=4)\n"
   ]
  },
  {
   "cell_type": "code",
   "execution_count": null,
   "id": "132de251-682e-4dc1-ab25-6614c1edd683",
   "metadata": {},
   "outputs": [],
   "source": []
  }
 ],
 "metadata": {
  "kernelspec": {
   "display_name": "Python 3 (ipykernel)",
   "language": "python",
   "name": "python3"
  },
  "language_info": {
   "codemirror_mode": {
    "name": "ipython",
    "version": 3
   },
   "file_extension": ".py",
   "mimetype": "text/x-python",
   "name": "python",
   "nbconvert_exporter": "python",
   "pygments_lexer": "ipython3",
   "version": "3.10.9"
  }
 },
 "nbformat": 4,
 "nbformat_minor": 5
}
