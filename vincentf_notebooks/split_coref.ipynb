{
 "cells": [
  {
   "cell_type": "code",
   "execution_count": 2,
   "id": "9b014937",
   "metadata": {},
   "outputs": [],
   "source": [
    "import json\n",
    "data_path = '/Mounts/rbg-storage1/users/urop/vincentf/MolDetect/data/coref/annotations_dec.json'\n",
    "with open(data_path) as f:\n",
    "    data = json.load(f)"
   ]
  },
  {
   "cell_type": "code",
   "execution_count": 3,
   "id": "e09426c9",
   "metadata": {},
   "outputs": [
    {
     "name": "stdout",
     "output_type": "stream",
     "text": [
      "dict_keys(['licenses', 'info', 'categories', 'images', 'roles'])\n"
     ]
    }
   ],
   "source": [
    "print(data.keys())"
   ]
  },
  {
   "cell_type": "code",
   "execution_count": 4,
   "id": "2255f481",
   "metadata": {},
   "outputs": [],
   "source": [
    "file_names = set()\n",
    "for i in data['images']:\n",
    "    file_names.add(i[\"file_name\"])"
   ]
  },
  {
   "cell_type": "code",
   "execution_count": 5,
   "id": "ee8a05d4",
   "metadata": {},
   "outputs": [
    {
     "name": "stdout",
     "output_type": "stream",
     "text": [
      "1378\n"
     ]
    }
   ],
   "source": [
    "print(len(file_names))"
   ]
  },
  {
   "cell_type": "code",
   "execution_count": 6,
   "id": "1d0b16dc",
   "metadata": {},
   "outputs": [],
   "source": [
    "names_list = list(file_names)"
   ]
  },
  {
   "cell_type": "code",
   "execution_count": 7,
   "id": "3c4253c9",
   "metadata": {},
   "outputs": [
    {
     "name": "stdout",
     "output_type": "stream",
     "text": [
      "['jo501785d-Scheme-c1.png', 'ol0600584-Table-c1.png', 'ja1048847-Table-c3.png', 'op300363s-Scheme-c4.png', 'op800136f-Scheme-c11.png', 'op200174k-Figure-c1.png', 'ol5028392-Scheme-c1.png', 'jo9902998-Table-c1.png', 'jo501216h-Table-c3.png', 'op7001886-Figure-c2.png']\n"
     ]
    }
   ],
   "source": [
    "print(names_list[0:10])"
   ]
  },
  {
   "cell_type": "code",
   "execution_count": 11,
   "id": "54f4027d-e5eb-4a35-911c-218f9e93a555",
   "metadata": {
    "tags": []
   },
   "outputs": [],
   "source": [
    "names_with_coref = []\n",
    "for image in data['images']:\n",
    "    if 'corefs' in image.keys() and len(image['corefs'])>0:\n",
    "        names_with_coref.append(image['file_name'])"
   ]
  },
  {
   "cell_type": "code",
   "execution_count": 12,
   "id": "582c8845-1d9f-4707-9894-149e226c3b5c",
   "metadata": {
    "tags": []
   },
   "outputs": [
    {
     "name": "stdout",
     "output_type": "stream",
     "text": [
      "779\n"
     ]
    }
   ],
   "source": [
    "print(len(names_with_coref))"
   ]
  },
  {
   "cell_type": "code",
   "execution_count": 14,
   "id": "ac916039",
   "metadata": {},
   "outputs": [
    {
     "name": "stdout",
     "output_type": "stream",
     "text": [
      "['op300341n-Figure-c2.png', 'ja300396h-Figure-c4.png', 'ol802005n-Table-c1.png', 'jo200882k-Figure-c5.png', 'ja9039289-Table-c3.png', 'op500102h-Table-c1.png', 'op200005e-Table-c1.png', 'jo2008675-Table-c3.png', 'ol8006106-Table-c1.png', 'acs.oprd.5b00170-Figure-c1.png']\n"
     ]
    }
   ],
   "source": [
    "import random\n",
    "\n",
    "random.shuffle(names_with_coref)\n",
    "\n",
    "print(names_with_coref[0:10])"
   ]
  },
  {
   "cell_type": "code",
   "execution_count": 16,
   "id": "8e8983f4",
   "metadata": {},
   "outputs": [
    {
     "name": "stdout",
     "output_type": "stream",
     "text": [
      "625\n"
     ]
    }
   ],
   "source": [
    "test = names_with_coref[0:77]\n",
    "val = names_with_coref[77: 154]\n",
    "train = names_with_coref[154:]\n",
    "print(len(train))"
   ]
  },
  {
   "cell_type": "code",
   "execution_count": 17,
   "id": "9d2e97aa",
   "metadata": {},
   "outputs": [
    {
     "name": "stdout",
     "output_type": "stream",
     "text": [
      "{'categories': [{'id': 1, 'name': 'structure'}, {'id': 2, 'name': 'text'}, {'id': 3, 'name': 'identifier'}, {'id': 4, 'name': 'supplement'}], 'licenses': [{'name': '', 'id': 0, 'url': ''}], 'info': {'contributor': 'Jiang Guo', 'date_created': 'Feb. 01', 'description': 'A dataset for chemical visual diagram analysis', 'url': '', 'version': 'v1', 'year': '2022'}, 'roles': [{'id': 1, 'name': 'reactants'}, {'id': 2, 'name': 'conditions'}, {'id': 3, 'name': 'products'}], 'images': []}\n"
     ]
    }
   ],
   "source": [
    "test_json = {}\n",
    "val_json = {}\n",
    "train_json = {}\n",
    "\n",
    "for k in ['categories', 'licenses', 'info', 'roles']:\n",
    "    test_json[k] = data[k]\n",
    "    val_json[k] = data[k]\n",
    "    train_json[k] = data[k]\n",
    "\n",
    "test_json['images'] = []\n",
    "val_json['images'] = []\n",
    "train_json['images'] = []\n",
    "\n",
    "test_ids = set()\n",
    "val_ids = set()\n",
    "train_ids = set()\n",
    "\n",
    "print(test_json)"
   ]
  },
  {
   "cell_type": "code",
   "execution_count": 18,
   "id": "abce3451",
   "metadata": {},
   "outputs": [],
   "source": [
    "for image in data['images']:\n",
    "    if image['file_name'] in test:\n",
    "        test_json['images'].append(image)\n",
    "        test_ids.add(image['id'])\n",
    "    elif image['file_name'] in val:\n",
    "        val_json['images'].append(image)\n",
    "        val_ids.add(image['id'])\n",
    "    elif image['file_name'] in train:\n",
    "        train_json['images'].append(image)\n",
    "        train_ids.add(image['id'])"
   ]
  },
  {
   "cell_type": "code",
   "execution_count": 12,
   "id": "56003db6",
   "metadata": {},
   "outputs": [],
   "source": [
    "for annotation in data['annotations']:\n",
    "    if annotation['image_id'] in test_ids:\n",
    "        test_json['annotations'].append(annotation)\n",
    "    elif annotation['image_id'] in val_ids:\n",
    "        val_json['annotations'].append(annotation)\n",
    "    elif annotation['image_id'] in train_ids:\n",
    "        train_json['annotations'].append(annotation)"
   ]
  },
  {
   "cell_type": "code",
   "execution_count": 19,
   "id": "0818f1b3",
   "metadata": {},
   "outputs": [],
   "source": [
    "json_object = json.dumps(test_json)\n",
    " \n",
    "# Writing to sample.json\n",
    "with open(\"../data/coref/splits/annotations/coref_test.json\", \"w\") as outfile:\n",
    "    outfile.write(json_object)"
   ]
  },
  {
   "cell_type": "code",
   "execution_count": 20,
   "id": "7f0e5938",
   "metadata": {},
   "outputs": [],
   "source": [
    "json_object = json.dumps(val_json)\n",
    " \n",
    "# Writing to sample.json\n",
    "with open(\"../data/coref/splits/annotations/coref_val.json\", \"w\") as outfile:\n",
    "    outfile.write(json_object)"
   ]
  },
  {
   "cell_type": "code",
   "execution_count": 21,
   "id": "1a8377dd",
   "metadata": {},
   "outputs": [],
   "source": [
    "json_object = json.dumps(train_json)\n",
    " \n",
    "# Writing to sample.json\n",
    "with open(\"../data/coref/splits/annotations/coref_train.json\", \"w\") as outfile:\n",
    "    outfile.write(json_object)"
   ]
  },
  {
   "cell_type": "code",
   "execution_count": null,
   "id": "498b46f3",
   "metadata": {},
   "outputs": [],
   "source": []
  }
 ],
 "metadata": {
  "kernelspec": {
   "display_name": "Python 3 (ipykernel)",
   "language": "python",
   "name": "python3"
  },
  "language_info": {
   "codemirror_mode": {
    "name": "ipython",
    "version": 3
   },
   "file_extension": ".py",
   "mimetype": "text/x-python",
   "name": "python",
   "nbconvert_exporter": "python",
   "pygments_lexer": "ipython3",
   "version": "3.10.9"
  }
 },
 "nbformat": 4,
 "nbformat_minor": 5
}
