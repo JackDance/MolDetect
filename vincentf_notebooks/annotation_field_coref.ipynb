{
 "cells": [
  {
   "cell_type": "code",
   "execution_count": 10,
   "id": "aa693bb1-5563-49e3-8f5f-a46b531d39e2",
   "metadata": {
    "tags": []
   },
   "outputs": [],
   "source": [
    "import json\n",
    "data_path = '/Mounts/rbg-storage1/users/urop/vincentf/MolDetect/data/coref/annotations_dec.json'\n",
    "with open(data_path) as f:\n",
    "    data = json.load(f)"
   ]
  },
  {
   "cell_type": "code",
   "execution_count": 11,
   "id": "a72db0e8-c867-429e-9859-e75db3539245",
   "metadata": {
    "tags": []
   },
   "outputs": [],
   "source": [
    "from copy import deepcopy\n",
    "\n",
    "data_new = deepcopy(data)\n",
    "\n",
    "data_new['annotations'] = []"
   ]
  },
  {
   "cell_type": "code",
   "execution_count": 12,
   "id": "7dc92e03-2901-46b5-9b5e-b680f563018c",
   "metadata": {
    "tags": []
   },
   "outputs": [
    {
     "name": "stdout",
     "output_type": "stream",
     "text": [
      "dict_keys(['licenses', 'info', 'categories', 'images', 'roles', 'annotations'])\n"
     ]
    }
   ],
   "source": [
    "print(data_new.keys())"
   ]
  },
  {
   "cell_type": "code",
   "execution_count": 13,
   "id": "4b823020-39a1-4109-8fce-d8cfadc9a956",
   "metadata": {
    "tags": []
   },
   "outputs": [],
   "source": [
    "counter = 0 \n",
    "\n",
    "for image in data['images']:\n",
    "    for bbox in image['bboxes']:\n",
    "        data_new['annotations'].append({'id': counter, 'image_id': image['id'], 'category_id': bbox['category_id'],'segmentation': [], 'area': bbox['bbox'][2]*bbox['bbox'][3], 'bbox': bbox['bbox'], 'iscrowd': 0, 'attributes': {'occluded': False, 'rotation': 0.0} })\n",
    "        counter += 1"
   ]
  },
  {
   "cell_type": "code",
   "execution_count": 14,
   "id": "1055911c-cd90-426a-b0b6-51f21fa08fb4",
   "metadata": {
    "tags": []
   },
   "outputs": [],
   "source": [
    "json_object = json.dumps(data_new)\n",
    "\n",
    "with open(\"../data/coref/annotations_dec_with_annotation.json\", \"w\") as outfile:\n",
    "    outfile.write(json_object)"
   ]
  },
  {
   "cell_type": "code",
   "execution_count": null,
   "id": "003ac1f5-1219-446a-a2b8-5dd4515e3127",
   "metadata": {},
   "outputs": [],
   "source": []
  }
 ],
 "metadata": {
  "kernelspec": {
   "display_name": "Python 3 (ipykernel)",
   "language": "python",
   "name": "python3"
  },
  "language_info": {
   "codemirror_mode": {
    "name": "ipython",
    "version": 3
   },
   "file_extension": ".py",
   "mimetype": "text/x-python",
   "name": "python",
   "nbconvert_exporter": "python",
   "pygments_lexer": "ipython3",
   "version": "3.10.9"
  }
 },
 "nbformat": 4,
 "nbformat_minor": 5
}
